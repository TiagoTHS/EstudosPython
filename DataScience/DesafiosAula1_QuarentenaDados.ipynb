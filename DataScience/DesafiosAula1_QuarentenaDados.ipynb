{
  "nbformat": 4,
  "nbformat_minor": 0,
  "metadata": {
    "colab": {
      "name": "DesafiosAula1 - QuarentenaDados.ipynb",
      "provenance": [],
      "collapsed_sections": []
    },
    "kernelspec": {
      "name": "python3",
      "display_name": "Python 3"
    }
  },
  "cells": [
    {
      "cell_type": "code",
      "metadata": {
        "id": "bRZp7yktiFSX",
        "colab_type": "code",
        "colab": {}
      },
      "source": [
        "import pandas as pd \n",
        "import matplotlib\n",
        "\n",
        "movies = pd.read_csv('https://raw.githubusercontent.com/Brunorm96/Dataset-Movie-Lens---QuaretenaDados-Aula-01/master/movies.csv')\n",
        "rate =pd.read_csv('https://raw.githubusercontent.com/Brunorm96/Dataset-Movie-Lens---QuaretenaDados-Aula-01/master/ratings.csv')\n",
        "\n",
        "#Adiciona nota média dos filmes no DF movies\n",
        "mean_rating = rate.groupby(\"movieId\")[\"rating\"].mean()\n",
        "movies = movies.join(mean_rating, on=\"movieId\")\n"
      ],
      "execution_count": 0,
      "outputs": []
    },
    {
      "cell_type": "markdown",
      "metadata": {
        "id": "YNXSSRA-ce26",
        "colab_type": "text"
      },
      "source": [
        "# Desafio 2 :"
      ]
    },
    {
      "cell_type": "markdown",
      "metadata": {
        "id": "MjxdfMvkckIn",
        "colab_type": "text"
      },
      "source": [
        "Mudar o nome da coluna nota do dataframe movies para nota_média após o join."
      ]
    },
    {
      "cell_type": "code",
      "metadata": {
        "id": "-qX62dvvjk5T",
        "colab_type": "code",
        "colab": {}
      },
      "source": [
        "movies = movies.rename(columns={\"rating\":\"mean_rating\"})\n",
        "movies.head()"
      ],
      "execution_count": 0,
      "outputs": []
    },
    {
      "cell_type": "markdown",
      "metadata": {
        "id": "4_tvXdCIdE95",
        "colab_type": "text"
      },
      "source": [
        "# Desafio 1 :\n"
      ]
    },
    {
      "cell_type": "markdown",
      "metadata": {
        "id": "3XuSyQN9dKk-",
        "colab_type": "text"
      },
      "source": [
        "O Paulo fez uma análise rápida e disse que tem 18 filmes sem avaliações, será que ele acertou?\n",
        "\n",
        "Determine quantos filmes não tem avaliações e quais são esses filmes."
      ]
    },
    {
      "cell_type": "code",
      "metadata": {
        "id": "vTkMCvyudSAE",
        "colab_type": "code",
        "colab": {}
      },
      "source": [
        "movies[\"mean_rating\"].isnull().sum()"
      ],
      "execution_count": 0,
      "outputs": []
    },
    {
      "cell_type": "code",
      "metadata": {
        "id": "PqEfC_WGixfG",
        "colab_type": "code",
        "colab": {}
      },
      "source": [
        "movies_no_rating = movies[\"mean_rating\"].isnull()"
      ],
      "execution_count": 0,
      "outputs": []
    },
    {
      "cell_type": "code",
      "metadata": {
        "id": "ci2L3rwet559",
        "colab_type": "code",
        "colab": {}
      },
      "source": [
        "movies[movies_no_rating]"
      ],
      "execution_count": 0,
      "outputs": []
    },
    {
      "cell_type": "markdown",
      "metadata": {
        "id": "57OJLhv_dhTr",
        "colab_type": "text"
      },
      "source": [
        "# Desafio 3 :"
      ]
    },
    {
      "cell_type": "markdown",
      "metadata": {
        "id": "NvFeDFeLdkY7",
        "colab_type": "text"
      },
      "source": [
        "Colocar o número de avaliações por filme, isto é, não só a média mas o TOTAL de votos por filme."
      ]
    },
    {
      "cell_type": "code",
      "metadata": {
        "id": "EvJkL36Yqu_0",
        "colab_type": "code",
        "colab": {}
      },
      "source": [
        "num_rate = rate.groupby(\"movieId\")[\"rating\"].count()\n",
        "movies = movies.join(num_rate, on=\"movieId\")\n",
        "movies = movies.rename(columns={\"rating\":\"num_rate\"})"
      ],
      "execution_count": 0,
      "outputs": []
    },
    {
      "cell_type": "code",
      "metadata": {
        "id": "QsUPslwWtO8x",
        "colab_type": "code",
        "colab": {}
      },
      "source": [
        "movies.head()"
      ],
      "execution_count": 0,
      "outputs": []
    },
    {
      "cell_type": "markdown",
      "metadata": {
        "id": "HQGAG3Y5dye6",
        "colab_type": "text"
      },
      "source": [
        "# Desafio 4 :"
      ]
    },
    {
      "cell_type": "markdown",
      "metadata": {
        "id": "okt1ilnmd1ST",
        "colab_type": "text"
      },
      "source": [
        "Arredondar as médias (coluna de nota média) para duas casas decimais."
      ]
    },
    {
      "cell_type": "code",
      "metadata": {
        "id": "-aQeV1BlvReq",
        "colab_type": "code",
        "colab": {}
      },
      "source": [
        "movies[\"mean_rating\"] = movies[\"mean_rating\"].round(2)"
      ],
      "execution_count": 0,
      "outputs": []
    },
    {
      "cell_type": "markdown",
      "metadata": {
        "id": "7zwuzQasd7-6",
        "colab_type": "text"
      },
      "source": [
        "# Desafio 5 :"
      ]
    },
    {
      "cell_type": "markdown",
      "metadata": {
        "id": "p3AbGIwBd_gr",
        "colab_type": "text"
      },
      "source": [
        "Descobrir os generos dos filmes (quais são eles, únicos)."
      ]
    },
    {
      "cell_type": "code",
      "metadata": {
        "id": "jMTN5Ku3wGcR",
        "colab_type": "code",
        "colab": {}
      },
      "source": [
        "generos = []\n",
        "for i in movies[\"genres\"].str.split(\"|\"):\n",
        "  for k in i:\n",
        "    if not k in generos:\n",
        "      generos.append(k)\n",
        "\n",
        "generos\n",
        "\n",
        "#generos = list(movies[\"genres\"].str.get_gummies(\"|\"))"
      ],
      "execution_count": 0,
      "outputs": []
    },
    {
      "cell_type": "markdown",
      "metadata": {
        "id": "oyS5trCZeJ1a",
        "colab_type": "text"
      },
      "source": [
        "# Desafio 6 :"
      ]
    },
    {
      "cell_type": "markdown",
      "metadata": {
        "id": "iyNQIj9IeXDP",
        "colab_type": "text"
      },
      "source": [
        "Contar o número de aparições de cada genero."
      ]
    },
    {
      "cell_type": "code",
      "metadata": {
        "id": "WCN0XvVswtvM",
        "colab_type": "code",
        "colab": {}
      },
      "source": [
        "generos_aparicoes = movies[\"genres\"].str.get_dummies(sep=\"|\").sum().sort_values(ascending = False)\n",
        "generos_aparicoes"
      ],
      "execution_count": 0,
      "outputs": []
    },
    {
      "cell_type": "markdown",
      "metadata": {
        "id": "3uFl9Z1EecBg",
        "colab_type": "text"
      },
      "source": [
        "# Desafio 7 :"
      ]
    },
    {
      "cell_type": "markdown",
      "metadata": {
        "id": "WjaUa7NWee8n",
        "colab_type": "text"
      },
      "source": [
        "Plotar o gráfico de aparições de cada genero. Pode ser um gráfico de tipo igual a barra."
      ]
    },
    {
      "cell_type": "code",
      "metadata": {
        "id": "GdRn4BcI197X",
        "colab_type": "code",
        "colab": {
          "base_uri": "https://localhost:8080/",
          "height": 578
        },
        "outputId": "6fda6410-5d5e-43a1-e723-6788df905e7e"
      },
      "source": [
        "generos_aparicoes.plot(kind=\"bar\", figsize=(16,8))"
      ],
      "execution_count": 11,
      "outputs": [
        {
          "output_type": "execute_result",
          "data": {
            "text/plain": [
              "<matplotlib.axes._subplots.AxesSubplot at 0x7f5284003978>"
            ]
          },
          "metadata": {
            "tags": []
          },
          "execution_count": 11
        },
        {
          "output_type": "display_data",
          "data": {
            "image/png": "[encoded data removed]",
            "text/plain": [
              "<Figure size 1152x576 with 1 Axes>"
            ]
          },
          "metadata": {
            "tags": [],
            "needs_background": "light"
          }
        }
      ]
    }
  ]
}