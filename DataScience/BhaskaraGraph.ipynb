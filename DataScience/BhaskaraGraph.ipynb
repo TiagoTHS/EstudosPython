import math
import matplotlib.pyplot as plt
import numpy as np

a = int(input("a:"))
b = int(input("b:"))
c = int(input("c:"))

#intervalo razoável para uma boa visualização 
x = np.arange(-20, 21)
y = a*(x**2) + b*x + c

plt.plot(x, y)
plt.show()
